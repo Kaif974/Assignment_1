{
  "nbformat": 4,
  "nbformat_minor": 0,
  "metadata": {
    "colab": {
      "provenance": [],
      "authorship_tag": "ABX9TyMFATqFtAacXma1At39YN95",
      "include_colab_link": true
    },
    "kernelspec": {
      "name": "python3",
      "display_name": "Python 3"
    },
    "language_info": {
      "name": "python"
    }
  },
  "cells": [
    {
      "cell_type": "markdown",
      "metadata": {
        "id": "view-in-github",
        "colab_type": "text"
      },
      "source": [
        "<a href=\"https://colab.research.google.com/github/Kaif974/Assignment_1/blob/main/Numpy.ipynb\" target=\"_parent\"><img src=\"https://colab.research.google.com/assets/colab-badge.svg\" alt=\"Open In Colab\"/></a>"
      ]
    },
    {
      "cell_type": "markdown",
      "source": [
        "Q1.Create a 3x3 NumPy array with random integers between 1 and 100. Then, interchange its rows and columns."
      ],
      "metadata": {
        "id": "krl9OBF3C6nq"
      }
    },
    {
      "cell_type": "code",
      "source": [
        "import numpy as np\n",
        "\n",
        "arr = np.random.randint(1, 101, size=(3, 3))\n",
        "transposed_arr = arr.T\n",
        "print(\"Original Array:\\n\", arr)\n",
        "print(\"Transposed Array:\\n\", transposed_arr)\n"
      ],
      "metadata": {
        "colab": {
          "base_uri": "https://localhost:8080/"
        },
        "id": "ZYjS4O04C9yA",
        "outputId": "480d9b82-7d38-4b14-f47a-de1798e1a0b7"
      },
      "execution_count": 1,
      "outputs": [
        {
          "output_type": "stream",
          "name": "stdout",
          "text": [
            "Original Array:\n",
            " [[82 81 14]\n",
            " [90 38  3]\n",
            " [19 38 99]]\n",
            "Transposed Array:\n",
            " [[82 90 19]\n",
            " [81 38 38]\n",
            " [14  3 99]]\n"
          ]
        }
      ]
    },
    {
      "cell_type": "markdown",
      "source": [
        "Q2.Generate a 1D NumPy array with 10 elements. Reshape it into a 2x5 array, then into a 5x2 array."
      ],
      "metadata": {
        "id": "xLuh4j5-C_Wu"
      }
    },
    {
      "cell_type": "code",
      "source": [
        "arr = np.arange(10)\n",
        "arr_2x5 = arr.reshape(2, 5)\n",
        "arr_5x2 = arr.reshape(5, 2)\n",
        "print(\"1D Array:\\n\", arr)\n",
        "print(\"2x5 Array:\\n\", arr_2x5)\n",
        "print(\"5x2 Array:\\n\", arr_5x2)\n"
      ],
      "metadata": {
        "colab": {
          "base_uri": "https://localhost:8080/"
        },
        "id": "IuV5MpJdDBsy",
        "outputId": "f06f0fd7-0a3e-4644-c367-5d4cebb36b0e"
      },
      "execution_count": 2,
      "outputs": [
        {
          "output_type": "stream",
          "name": "stdout",
          "text": [
            "1D Array:\n",
            " [0 1 2 3 4 5 6 7 8 9]\n",
            "2x5 Array:\n",
            " [[0 1 2 3 4]\n",
            " [5 6 7 8 9]]\n",
            "5x2 Array:\n",
            " [[0 1]\n",
            " [2 3]\n",
            " [4 5]\n",
            " [6 7]\n",
            " [8 9]]\n"
          ]
        }
      ]
    },
    {
      "cell_type": "markdown",
      "source": [
        "Q3.Create a 4x4 NumPy array with random float values. Add a border of zeros around it, resulting in a 6x6 array."
      ],
      "metadata": {
        "id": "VIdGknpbDE1z"
      }
    },
    {
      "cell_type": "code",
      "source": [
        "arr = np.random.rand(4, 4)\n",
        "bordered_arr = np.pad(arr, pad_width=1, mode='constant', constant_values=0)\n",
        "print(\"Original 4x4:\\n\", arr)\n",
        "print(\"6x6 with border:\\n\", bordered_arr)\n"
      ],
      "metadata": {
        "colab": {
          "base_uri": "https://localhost:8080/"
        },
        "id": "bIYPCuToDGxN",
        "outputId": "545ee7f3-138b-491a-e089-1f3f7bafd5ab"
      },
      "execution_count": 3,
      "outputs": [
        {
          "output_type": "stream",
          "name": "stdout",
          "text": [
            "Original 4x4:\n",
            " [[0.03059608 0.4557446  0.05010444 0.07696253]\n",
            " [0.15048332 0.56733385 0.74700103 0.66237709]\n",
            " [0.01089015 0.99704611 0.85775441 0.37653992]\n",
            " [0.99828322 0.09300096 0.20881329 0.61863617]]\n",
            "6x6 with border:\n",
            " [[0.         0.         0.         0.         0.         0.        ]\n",
            " [0.         0.03059608 0.4557446  0.05010444 0.07696253 0.        ]\n",
            " [0.         0.15048332 0.56733385 0.74700103 0.66237709 0.        ]\n",
            " [0.         0.01089015 0.99704611 0.85775441 0.37653992 0.        ]\n",
            " [0.         0.99828322 0.09300096 0.20881329 0.61863617 0.        ]\n",
            " [0.         0.         0.         0.         0.         0.        ]]\n"
          ]
        }
      ]
    },
    {
      "cell_type": "markdown",
      "source": [
        "Q4.Using NumPy, create an array of integers from 10 to 60 with a step of 5."
      ],
      "metadata": {
        "id": "RyZaN1upDKFx"
      }
    },
    {
      "cell_type": "code",
      "source": [
        "arr = np.arange(10, 61, 5)\n",
        "print(\"Array:\", arr)\n"
      ],
      "metadata": {
        "colab": {
          "base_uri": "https://localhost:8080/"
        },
        "id": "l4kUpep1DMVp",
        "outputId": "9eceab99-6133-48f7-fefe-fb2e2d904f55"
      },
      "execution_count": 4,
      "outputs": [
        {
          "output_type": "stream",
          "name": "stdout",
          "text": [
            "Array: [10 15 20 25 30 35 40 45 50 55 60]\n"
          ]
        }
      ]
    },
    {
      "cell_type": "markdown",
      "source": [
        "Q5.Create a NumPy array of strings ['python', 'numpy', 'pandas']. Apply different case transformations."
      ],
      "metadata": {
        "id": "KUwbmC8QDOtT"
      }
    },
    {
      "cell_type": "code",
      "source": [
        "arr = np.array(['python', 'numpy', 'pandas'])\n",
        "print(\"Uppercase:\", np.char.upper(arr))\n",
        "print(\"Lowercase:\", np.char.lower(arr))\n",
        "print(\"Title Case:\", np.char.title(arr))\n"
      ],
      "metadata": {
        "colab": {
          "base_uri": "https://localhost:8080/"
        },
        "id": "UhsFK7e3DS0A",
        "outputId": "8ddb562a-cd61-4f9f-a841-3cd328720a54"
      },
      "execution_count": 5,
      "outputs": [
        {
          "output_type": "stream",
          "name": "stdout",
          "text": [
            "Uppercase: ['PYTHON' 'NUMPY' 'PANDAS']\n",
            "Lowercase: ['python' 'numpy' 'pandas']\n",
            "Title Case: ['Python' 'Numpy' 'Pandas']\n"
          ]
        }
      ]
    },
    {
      "cell_type": "markdown",
      "source": [
        "Q6.Generate a NumPy array of words. Insert a space between each character of every word."
      ],
      "metadata": {
        "id": "4jsCga7bDUSE"
      }
    },
    {
      "cell_type": "code",
      "source": [
        "arr = np.array(['hello', 'world'])\n",
        "spaced = np.char.join(' ', arr)\n",
        "print(\"Spaced Words:\", spaced)\n"
      ],
      "metadata": {
        "colab": {
          "base_uri": "https://localhost:8080/"
        },
        "id": "rnVMsblmDWX0",
        "outputId": "b6fc939e-fdce-40d4-fce2-cc06a15462dc"
      },
      "execution_count": 6,
      "outputs": [
        {
          "output_type": "stream",
          "name": "stdout",
          "text": [
            "Spaced Words: ['h e l l o' 'w o r l d']\n"
          ]
        }
      ]
    },
    {
      "cell_type": "markdown",
      "source": [
        "Q7.Create two 2D NumPy arrays and perform element-wise addition, subtraction, multiplication, and division."
      ],
      "metadata": {
        "id": "pU_P85e3DaXY"
      }
    },
    {
      "cell_type": "code",
      "source": [
        "a = np.random.randint(1, 10, size=(2, 2))\n",
        "b = np.random.randint(1, 10, size=(2, 2))\n",
        "\n",
        "print(\"Addition:\\n\", a + b)\n",
        "print(\"Subtraction:\\n\", a - b)\n",
        "print(\"Multiplication:\\n\", a * b)\n",
        "print(\"Division:\\n\", a / b)\n"
      ],
      "metadata": {
        "colab": {
          "base_uri": "https://localhost:8080/"
        },
        "id": "7wSmz1bZDb3m",
        "outputId": "c0dca4a0-33c8-4e6a-d2c7-c3cff7f9b74b"
      },
      "execution_count": 7,
      "outputs": [
        {
          "output_type": "stream",
          "name": "stdout",
          "text": [
            "Addition:\n",
            " [[11 15]\n",
            " [10 14]]\n",
            "Subtraction:\n",
            " [[5 3]\n",
            " [4 0]]\n",
            "Multiplication:\n",
            " [[24 54]\n",
            " [21 49]]\n",
            "Division:\n",
            " [[2.66666667 1.5       ]\n",
            " [2.33333333 1.        ]]\n"
          ]
        }
      ]
    },
    {
      "cell_type": "markdown",
      "source": [
        "Q8.Use NumPy to create a 5x5 identity matrix, then extract its diagonal elements."
      ],
      "metadata": {
        "id": "skNa8NMIDfpq"
      }
    },
    {
      "cell_type": "code",
      "source": [
        "identity = np.eye(5)\n",
        "diagonal = np.diag(identity)\n",
        "print(\"Identity Matrix:\\n\", identity)\n",
        "print(\"Diagonal Elements:\", diagonal)\n"
      ],
      "metadata": {
        "colab": {
          "base_uri": "https://localhost:8080/"
        },
        "id": "udXbcDKqDg-5",
        "outputId": "c1f3c21c-cd97-4bfd-e956-eb5ef6a249fc"
      },
      "execution_count": 8,
      "outputs": [
        {
          "output_type": "stream",
          "name": "stdout",
          "text": [
            "Identity Matrix:\n",
            " [[1. 0. 0. 0. 0.]\n",
            " [0. 1. 0. 0. 0.]\n",
            " [0. 0. 1. 0. 0.]\n",
            " [0. 0. 0. 1. 0.]\n",
            " [0. 0. 0. 0. 1.]]\n",
            "Diagonal Elements: [1. 1. 1. 1. 1.]\n"
          ]
        }
      ]
    },
    {
      "cell_type": "markdown",
      "source": [
        "Q9.Generate a NumPy array of 100 random integers between 0 and 1000. Find and display all prime numbers in this array."
      ],
      "metadata": {
        "id": "yOD5funKDthr"
      }
    },
    {
      "cell_type": "code",
      "source": [
        "from sympy import isprime\n",
        "\n",
        "arr = np.random.randint(0, 1000, size=100)\n",
        "primes = arr[np.vectorize(isprime)(arr)]\n",
        "print(\"Prime Numbers:\", primes)\n"
      ],
      "metadata": {
        "colab": {
          "base_uri": "https://localhost:8080/"
        },
        "id": "H8LcxslnDucD",
        "outputId": "3a546c93-b7fa-4022-83cd-c65830b3f79f"
      },
      "execution_count": 9,
      "outputs": [
        {
          "output_type": "stream",
          "name": "stdout",
          "text": [
            "Prime Numbers: [967 409 241 431  11 263  79 449 613 647 881 877 283 859 701]\n"
          ]
        }
      ]
    },
    {
      "cell_type": "markdown",
      "source": [
        "Q10.Create a NumPy array representing daily temperatures for a month. Calculate and display the weekly averages."
      ],
      "metadata": {
        "id": "zm63SB0yDxMU"
      }
    },
    {
      "cell_type": "code",
      "source": [
        "temps = np.random.uniform(15, 35, size=28)\n",
        "weekly_avg = temps.reshape(4, 7)\n",
        "print(\"Weekly Averages:\", weekly_avg.mean(axis=1))\n"
      ],
      "metadata": {
        "colab": {
          "base_uri": "https://localhost:8080/"
        },
        "id": "XJlShxSiDyJk",
        "outputId": "5c4473d5-564a-45a6-d38e-0a26f59442ac"
      },
      "execution_count": 11,
      "outputs": [
        {
          "output_type": "stream",
          "name": "stdout",
          "text": [
            "Weekly Averages: [23.05113395 24.82961783 24.82679363 21.91704867]\n"
          ]
        }
      ]
    }
  ]
}