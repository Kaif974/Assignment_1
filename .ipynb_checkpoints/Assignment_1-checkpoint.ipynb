{
 "cells": [
  {
   "cell_type": "markdown",
   "id": "0d05ab80-e1c9-42a3-a343-daa74e039589",
   "metadata": {},
   "source": [
    "# Assignment_1"
   ]
  },
  {
   "cell_type": "markdown",
   "id": "4908ee65-e921-4743-ae72-f587a15c27d1",
   "metadata": {},
   "source": [
    "1. Explain the key features of Python that make it a popular choice for programming"
   ]
  },
  {
   "cell_type": "markdown",
   "id": "f8a30dc2-ce6b-4e43-a060-4da150003c0d",
   "metadata": {},
   "source": [
    "Ans1.\n",
    "1. Portable Language\n",
    "\n",
    "It is a cross-platform language. It can run on Linux, macOS, and Windows. For example, you can run the Python code for Windows in Linux or macOS, too.\n",
    "\n",
    "2. Standard Library\n",
    "\n",
    "It offers various modules like operators, mathematical functions, libraries such as NumPy, Pandas, Tensorflow, etc., and packages paving the way for the developers to save time to avoid re-writing the codes from scratch. To provide more functionality and packages, they also provide Python Package Index.\n",
    "\n",
    "3. High-Level Language\n",
    "\n",
    "It is a high-level, general-purpose programming language. Unlike machine language like C, C++, It is a human-readable language. In other words, even a layman can understand the programs.\n",
    "\n",
    "Easy to learn and use\n",
    "\n",
    "It is easy to understand and easy to code, and anyone can learn Python within a few days. For example, a simple Python program to add two numbers is as follows:\n",
    "\n",
    "\n",
    "We have completed this program within three lines. Whereas in Java, C++ and C, it takes more lines. That is why Python is known as an easy and precise language.\n",
    "\n",
    "5. Dynamic Language\n",
    "\n",
    "Declaring the type of a variable is not needed. For example, let us declare an integer number 7 for a variable a. Rather than declare it as:\n",
    "\n",
    "But, the programmers have to be careful regarding runtime errors.\n",
    "\n",
    "6. Extensible Language\n",
    "\n",
    "Code can be used to compile in C or C++ language so that it can be utilized for our Python code. This is achieved because it converts the program to byte code.\n",
    "\n",
    "7. Interpreted Language\n",
    "\n",
    "Line-by-line execution of source code, converted into byte code; thus, compiling the code is not necessary, making it easy to debug if required.\n",
    "\n",
    "8. Object-Oriented Programming Language\n",
    "\n",
    "It supports procedural, functional, structural, and also object-oriented language such as abstraction, encapsulation, inheritance, and polymorphism which is considered important by the Python coder.\n",
    "\n",
    "9. Free and Open-source libraries\n",
    "\n",
    "It is a free open-source platform that can be downloaded easily from their Official Website.\n",
    "\n",
    "10. Support is provided for Graphical User Interface\n",
    "\n",
    "Lots of Graphical User Interface frameworks are available in Python, thus helping the software user, and it sticks to platform-specific technologies. It can be used in software development, web development, etc\n",
    "\n"
   ]
  },
  {
   "cell_type": "markdown",
   "id": "1847bdb3-b4c4-4d44-bd3f-a35c0d0fec5a",
   "metadata": {},
   "source": [
    "Q2.Describe the role of predefined keywords in Python and provide examples of how they are used in a program\n"
   ]
  },
  {
   "cell_type": "markdown",
   "id": "b8262d5a-909c-4cd7-9143-214bcf005067",
   "metadata": {},
   "source": [
    "Ans2.\n",
    "In Python, predefined keywords (also known as reserved words) are fundamental elements of the language. They have special meanings and cannot be used as identifiers (such as variable names or function names). These keywords help define the structure and control flow of Python programs"
   ]
  },
  {
   "cell_type": "code",
   "execution_count": 4,
   "id": "0ed67116-2bcd-4685-963d-8c96e9f06e46",
   "metadata": {},
   "outputs": [
    {
     "name": "stdout",
     "output_type": "stream",
     "text": [
      "x is greater than 5\n"
     ]
    }
   ],
   "source": [
    "#1.if, elif, else: Used for conditional statements. They control the flow of the program based on certain conditions.\n",
    "x = 10\n",
    "if x > 5:\n",
    "    print(\"x is greater than 5\")\n",
    "elif x == 5:\n",
    "    print(\"x is equal to 5\")\n",
    "else:\n",
    "    print(\"x is less than 5\")\n"
   ]
  },
  {
   "cell_type": "code",
   "execution_count": 5,
   "id": "bb60c283-bf49-4835-b0b3-80dec2a1ea90",
   "metadata": {},
   "outputs": [
    {
     "name": "stdout",
     "output_type": "stream",
     "text": [
      "0\n",
      "1\n",
      "2\n",
      "3\n",
      "4\n",
      "0\n",
      "1\n",
      "2\n",
      "3\n",
      "4\n"
     ]
    }
   ],
   "source": [
    "#2.for, while, break, continue: Used for looping and controlling loops.\n",
    "# for loop example\n",
    "for i in range(5):\n",
    "    print(i)\n",
    "\n",
    "# while loop example\n",
    "count = 0\n",
    "while count < 5:\n",
    "    print(count)\n",
    "    count += 1\n"
   ]
  },
  {
   "cell_type": "code",
   "execution_count": 6,
   "id": "0d9c5407-73cf-4d07-9041-0f419d04b522",
   "metadata": {},
   "outputs": [
    {
     "name": "stdout",
     "output_type": "stream",
     "text": [
      "7\n"
     ]
    }
   ],
   "source": [
    "#3.def, return: Used for defining functions and returning values from them.\n",
    "def add(a, b):\n",
    "    return a + b\n",
    "\n",
    "result = add(3, 4)\n",
    "print(result)  \n"
   ]
  },
  {
   "cell_type": "code",
   "execution_count": 7,
   "id": "beb990c8-9b03-43a2-b0e7-0ff9e42ebbea",
   "metadata": {},
   "outputs": [
    {
     "name": "stdout",
     "output_type": "stream",
     "text": [
      "Buddy says woof!\n"
     ]
    }
   ],
   "source": [
    "#4.class, self: Used for defining classes and instance methods.\n",
    "class Dog:\n",
    "    def __init__(self, name):\n",
    "        self.name = name\n",
    "\n",
    "    def bark(self):\n",
    "        print(f\"{self.name} says woof!\")\n",
    "\n",
    "my_dog = Dog(\"Buddy\")\n",
    "my_dog.bark()  \n"
   ]
  },
  {
   "cell_type": "code",
   "execution_count": 8,
   "id": "c7b7f8d2-f9c5-4277-8a75-1ed37963e9c6",
   "metadata": {},
   "outputs": [
    {
     "name": "stdout",
     "output_type": "stream",
     "text": [
      "4.0\n",
      "2024-08-29 15:14:06.916688\n"
     ]
    }
   ],
   "source": [
    "#5.import, from, as: Used for importing modules and their components.\n",
    "import math\n",
    "print(math.sqrt(16))  \n",
    "\n",
    "from datetime import datetime\n",
    "now = datetime.now()\n",
    "print(now)\n"
   ]
  },
  {
   "cell_type": "code",
   "execution_count": 9,
   "id": "1ca332b5-ddde-45a2-b118-d533ceb016d3",
   "metadata": {},
   "outputs": [
    {
     "name": "stdout",
     "output_type": "stream",
     "text": [
      "Cannot divide by zero!\n",
      "This will always be executed.\n"
     ]
    }
   ],
   "source": [
    "#6.try, except, finally, raise: Used for exception handling.\n",
    "try:\n",
    "    result = 10 / 0\n",
    "except ZeroDivisionError:\n",
    "    print(\"Cannot divide by zero!\")\n",
    "finally:\n",
    "    print(\"This will always be executed.\")\n"
   ]
  },
  {
   "cell_type": "code",
   "execution_count": 10,
   "id": "64a5000c-6c86-40e0-b384-a405b05e30b1",
   "metadata": {},
   "outputs": [
    {
     "name": "stdout",
     "output_type": "stream",
     "text": [
      "False\n",
      "Value is None\n"
     ]
    }
   ],
   "source": [
    "#7.True, False, None: Boolean and special constant values.\n",
    "a = True\n",
    "b = False\n",
    "print(a and b)  \n",
    "def get_value():\n",
    "    return None\n",
    "\n",
    "value = get_value()\n",
    "if value is None:\n",
    "    print(\"Value is None\")\n"
   ]
  },
  {
   "cell_type": "code",
   "execution_count": 11,
   "id": "db358aab-2dd4-49fc-bab2-ace2f61ff118",
   "metadata": {},
   "outputs": [
    {
     "name": "stdout",
     "output_type": "stream",
     "text": [
      "5\n",
      "1\n",
      "2\n",
      "3\n"
     ]
    }
   ],
   "source": [
    "#8.lambda, yield: Used for creating anonymous functions and generators.\n",
    "# lambda example\n",
    "add = lambda x, y: x + y\n",
    "print(add(2, 3))  # Output: 5\n",
    "\n",
    "# yield example\n",
    "def count_up_to(max):\n",
    "    count = 1\n",
    "    while count <= max:\n",
    "        yield count\n",
    "        count += 1\n",
    "\n",
    "for num in count_up_to(3):\n",
    "    print(num)\n"
   ]
  },
  {
   "cell_type": "markdown",
   "id": "406f721e-87d7-427c-a9d1-de42caa0b962",
   "metadata": {},
   "source": [
    "Q3.Compare and contrast mutable and immutable objects in Python with examples"
   ]
  },
  {
   "cell_type": "markdown",
   "id": "35c7de41-2caa-4180-8ac2-c39163398b74",
   "metadata": {},
   "source": [
    "#3 Mutable Objects\n",
    "Definition: Mutable objects can be changed after they are created. This means you can modify their contents or state without creating a new object.\n",
    "\n",
    "Examples: Lists, dictionaries, and sets are common mutable objects in Python.\n",
    "\n"
   ]
  },
  {
   "cell_type": "code",
   "execution_count": 12,
   "id": "7b1345a1-774b-4816-a0ba-836e68847525",
   "metadata": {},
   "outputs": [
    {
     "name": "stdout",
     "output_type": "stream",
     "text": [
      "[1, 2, 3, 4]\n"
     ]
    }
   ],
   "source": [
    "#3Create a mutable list\n",
    "my_list = [1, 2, 3]\n",
    "\n",
    "# Modify the list\n",
    "my_list.append(4)\n",
    "\n",
    "print(my_list)  \n"
   ]
  },
  {
   "cell_type": "code",
   "execution_count": 13,
   "id": "4dd8e43f-ffba-41c8-bb30-ce59cbd86868",
   "metadata": {},
   "outputs": [
    {
     "name": "stdout",
     "output_type": "stream",
     "text": [
      "{'a': 1, 'b': 2, 'c': 3}\n"
     ]
    }
   ],
   "source": [
    "#3 Create a mutable dictionary\n",
    "my_dict = {'a': 1, 'b': 2}\n",
    "\n",
    "# Modify the dictionary\n",
    "my_dict['c'] = 3\n",
    "\n",
    "print(my_dict)  \n"
   ]
  },
  {
   "cell_type": "code",
   "execution_count": 14,
   "id": "e13e2e18-d09a-41b5-889c-c5e1f3f1e6db",
   "metadata": {},
   "outputs": [
    {
     "name": "stdout",
     "output_type": "stream",
     "text": [
      "{1, 2, 3, 4}\n"
     ]
    }
   ],
   "source": [
    "#sets\n",
    "my_set = {1, 2, 3}\n",
    "my_set.add(4)  # Adds an element to the set\n",
    "print(my_set)  # Output: {1, 2, 3, 4}\n"
   ]
  },
  {
   "cell_type": "markdown",
   "id": "7fa951ec-21fe-47c7-bc4b-8ab8b68fdd1f",
   "metadata": {},
   "source": [
    "Immutable Objects\n",
    "Definition: Immutable objects cannot be changed once they are created. Any operation that modifies the object will instead create a new object.\n",
    "\n",
    "Examples: Tuples, strings, and integers are common immutable objects in Python."
   ]
  },
  {
   "cell_type": "code",
   "execution_count": 15,
   "id": "9f9ba526-e97e-4e42-9199-27468417c4b0",
   "metadata": {},
   "outputs": [
    {
     "name": "stdout",
     "output_type": "stream",
     "text": [
      "hello\n",
      "hallo\n"
     ]
    }
   ],
   "source": [
    "#3 Create an immutable string\n",
    "my_string = \"hello\"\n",
    "\n",
    "# Attempt to modify the string\n",
    "new_string = my_string.replace(\"e\", \"a\")\n",
    "\n",
    "print(my_string) \n",
    "print(new_string) \n"
   ]
  },
  {
   "cell_type": "code",
   "execution_count": 16,
   "id": "e0658840-a5ad-4229-b86a-f25956c2a10a",
   "metadata": {},
   "outputs": [
    {
     "name": "stdout",
     "output_type": "stream",
     "text": [
      "5\n",
      "6\n"
     ]
    }
   ],
   "source": [
    "# Integers\n",
    "x = 5\n",
    "print(x)  # Output: 5\n",
    "\n",
    "x += 1\n",
    "print(x)  # Output: 6\n",
    "# Note: This creates a new integer object with the value 6\n"
   ]
  },
  {
   "cell_type": "code",
   "execution_count": 17,
   "id": "0fe8af2b-1309-4614-8411-2f297813fe0e",
   "metadata": {},
   "outputs": [
    {
     "name": "stdout",
     "output_type": "stream",
     "text": [
      "(1, 2, 3)\n",
      "(1, 2, 3, 4)\n"
     ]
    }
   ],
   "source": [
    "#Tuples\n",
    "t = (1, 2, 3)\n",
    "print(t)  # Output: (1, 2, 3)\n",
    "\n",
    "t = t + (4,)\n",
    "print(t)  # Output: (1, 2, 3, 4)\n",
    "# Note: `t + (4,)` creates a new tuple object\n"
   ]
  },
  {
   "cell_type": "markdown",
   "id": "64ff7ddc-6d80-4a83-94cb-26dd757bdcd6",
   "metadata": {},
   "source": [
    "4.Discuss the different types of operators in Python and provide examples of how they are used.\n"
   ]
  },
  {
   "cell_type": "code",
   "execution_count": 18,
   "id": "48f77014-6cd8-4acf-a622-3aa3faeb8b84",
   "metadata": {},
   "outputs": [
    {
     "data": {
      "text/plain": [
       "(15, 6, 36, 216, 2)"
      ]
     },
     "execution_count": 18,
     "metadata": {},
     "output_type": "execute_result"
    }
   ],
   "source": [
    "#Ans4.\n",
    "#1. Arithemetic Operators : +, -, *, /, %\n",
    "a= 6+9   #Addition\n",
    "b= 11-5   #Subtraction\n",
    "c= 4*9    #multiplication\n",
    "d= 6**3   #Square **2 denotes that it will get the square of the number\n",
    "e= 8%3   #%Modulus - it will give us the remainder\n",
    "\n",
    "a, b, c, d, e"
   ]
  },
  {
   "cell_type": "code",
   "execution_count": 19,
   "id": "ea07c9e2-36fd-46f5-8cfa-5e91ff48d0fa",
   "metadata": {},
   "outputs": [
    {
     "name": "stdout",
     "output_type": "stream",
     "text": [
      "True\n",
      "True\n",
      "False\n",
      "False\n"
     ]
    }
   ],
   "source": [
    "#2. Comparison Operators : ==, !=, >, >=, <, <=\n",
    "a = 30\n",
    "b = 23\n",
    "c = 30\n",
    "\n",
    "print(a==c)   # Equal to\n",
    "print(a!=b)   # not euqal to\n",
    "print(a<=b)   # Less than or equal to\n",
    "print(b>=c)   # Greater than or equal to"
   ]
  },
  {
   "cell_type": "code",
   "execution_count": 20,
   "id": "f28f4fde-818f-4f15-b454-5c8fdd16387a",
   "metadata": {},
   "outputs": [
    {
     "name": "stdout",
     "output_type": "stream",
     "text": [
      "The final value of x is: 2.0\n"
     ]
    }
   ],
   "source": [
    "#3.Assignment operators\n",
    "x = 10   \n",
    "x += 5\n",
    "x -= 3\n",
    "x *= 2 \n",
    "x /= 4  \n",
    "x %= 4 \n",
    "x **= 3\n",
    "x //= 3  \n",
    "\n",
    "# Display the final result\n",
    "print(f\"The final value of x is: {x}\")\n"
   ]
  },
  {
   "cell_type": "code",
   "execution_count": 21,
   "id": "eb250416-cf4d-4b52-abc9-d9391eb21827",
   "metadata": {},
   "outputs": [
    {
     "data": {
      "text/plain": [
       "-4"
      ]
     },
     "execution_count": 21,
     "metadata": {},
     "output_type": "execute_result"
    }
   ],
   "source": [
    "#4.Bitwise Operators\n",
    "result = (8 << 1) & (7 | 2) ^ (~3) \n",
    "result"
   ]
  },
  {
   "cell_type": "code",
   "execution_count": 22,
   "id": "18e263a5-556b-4592-89a1-26c465b325a6",
   "metadata": {},
   "outputs": [
    {
     "name": "stdout",
     "output_type": "stream",
     "text": [
      "False\n",
      "True\n"
     ]
    }
   ],
   "source": [
    "#5. Logical Operators : AND, OR\n",
    "a=5\n",
    "b=4\n",
    "\n",
    "print(a > b and b > a)   # Here both conditions needs to be True to get the result as True\n",
    "print(b > a or b < a)    # Here one condition return the result as True"
   ]
  },
  {
   "cell_type": "code",
   "execution_count": 23,
   "id": "58b1f913-7960-4fee-aeb3-0598aa3c2b5a",
   "metadata": {},
   "outputs": [
    {
     "name": "stdout",
     "output_type": "stream",
     "text": [
      "False\n",
      "True\n"
     ]
    }
   ],
   "source": [
    "#6. Membership Operators : in, not in\n",
    "string=\"kaif\"\n",
    "\n",
    "print(\"a\" not in string)\n",
    "print(\"k\" in string)"
   ]
  },
  {
   "cell_type": "code",
   "execution_count": 24,
   "id": "58dc92c6-c139-4158-8ee6-9bec4c64063f",
   "metadata": {},
   "outputs": [
    {
     "name": "stdout",
     "output_type": "stream",
     "text": [
      "False\n",
      "True\n"
     ]
    }
   ],
   "source": [
    "#7. Identity Operators : is, is not\n",
    "\n",
    "a=7\n",
    "b=8\n",
    "\n",
    "print(a is b)\n",
    "print(a is not b)"
   ]
  },
  {
   "cell_type": "markdown",
   "id": "c2dadb96-7f6b-4aff-abb2-3964743d9666",
   "metadata": {},
   "source": [
    "5. Explain the concept of type casting with Examples."
   ]
  },
  {
   "cell_type": "code",
   "execution_count": 25,
   "id": "8483a245-325c-49e1-859f-d781194c4e9c",
   "metadata": {},
   "outputs": [
    {
     "data": {
      "text/plain": [
       "str"
      ]
     },
     "execution_count": 25,
     "metadata": {},
     "output_type": "execute_result"
    }
   ],
   "source": [
    "#Ans5.\n",
    "#Type casting is a way to convert the Data-type of a variable in python.\n",
    "\n",
    "#Examples\n",
    "\n",
    "#1. Converting integer to string\n",
    "a=17        #here values of a is an integer value\n",
    "a=str(a)    #this line of code will change the datatype of variable a from integer to string\n",
    "type(a)"
   ]
  },
  {
   "cell_type": "code",
   "execution_count": 26,
   "id": "eee8df6f-6d25-4ca2-8986-b8e796da3c84",
   "metadata": {},
   "outputs": [
    {
     "data": {
      "text/plain": [
       "float"
      ]
     },
     "execution_count": 26,
     "metadata": {},
     "output_type": "execute_result"
    }
   ],
   "source": [
    "#2. Coverting integer to Float\n",
    "a=43       #here values of a is an integer value\n",
    "a=float(a)  #this line of code will change the datatype of variable 'a' from integer to float\n",
    "type(a)"
   ]
  },
  {
   "cell_type": "code",
   "execution_count": 27,
   "id": "1da3d799-1201-4e54-a626-b8c1c8898c28",
   "metadata": {},
   "outputs": [
    {
     "data": {
      "text/plain": [
       "int"
      ]
     },
     "execution_count": 27,
     "metadata": {},
     "output_type": "execute_result"
    }
   ],
   "source": [
    "#3. Coverting float to integer\n",
    "a=23.7       #here values of a is an float value\n",
    "a=int(a)     #this line of code will change the datatype of variable 'a' from float to integer\n",
    "type(a)"
   ]
  },
  {
   "cell_type": "markdown",
   "id": "0acc7d29-b264-407b-ac47-2e634469d924",
   "metadata": {},
   "source": [
    "6. How do conditional statements work in Python. Illustrate with Examples"
   ]
  },
  {
   "cell_type": "code",
   "execution_count": 28,
   "id": "b83d15f8-914c-497b-b15d-b40425d30ecf",
   "metadata": {},
   "outputs": [
    {
     "name": "stdin",
     "output_type": "stream",
     "text": [
      "Enter the first number:  12\n",
      "Enter the second number:  23\n"
     ]
    },
    {
     "name": "stdout",
     "output_type": "stream",
     "text": [
      "23 is greater than 12\n"
     ]
    }
   ],
   "source": [
    "#Ans8.\n",
    "#Conditional statement in Python is if-else.\n",
    "#if the condition is True then it will execute the block of Code whatever is written inside the block.\n",
    "#else it will execute the other block of code.\n",
    "#we can also use if-elif-else to describe multiple condition and out of all the conditions whichever condition, \\n\n",
    "##return the result as True, Python will execute the block of code which is inside that condition.\n",
    "\n",
    "#Example of condition statement\n",
    "#To check which number is greater and smaller number by taking input from Users.\n",
    "\n",
    "\n",
    "num1=int(input(\"Enter the first number: \"))\n",
    "num2=int(input(\"Enter the second number: \"))\n",
    "           \n",
    "if num1>num2:\n",
    "    print(num1, \"is greater than\", num2)\n",
    "elif num2>num1:\n",
    "    print(num2, \"is greater than\", num1)\n",
    "else:\n",
    "    print(\"Both numbers are Equal.\")"
   ]
  },
  {
   "cell_type": "markdown",
   "id": "0c11f1aa-1a3f-4940-80a5-b54b9c1ea982",
   "metadata": {},
   "source": [
    "7. Describe the different types of loops in Python and their use cases with examples."
   ]
  },
  {
   "cell_type": "code",
   "execution_count": 29,
   "id": "2de15aad-2db1-4c4b-bc19-5ff8c681bbd5",
   "metadata": {},
   "outputs": [
    {
     "name": "stdout",
     "output_type": "stream",
     "text": [
      "8 x 1 = 8\n",
      "8 x 2 = 16\n",
      "8 x 3 = 24\n",
      "8 x 4 = 32\n",
      "8 x 5 = 40\n",
      "8 x 6 = 48\n",
      "8 x 7 = 56\n",
      "8 x 8 = 64\n",
      "8 x 9 = 72\n",
      "8 x 10 = 80\n"
     ]
    }
   ],
   "source": [
    "#Ans7.\n",
    "# for Loop\n",
    "num=8\n",
    "for i in range(1,11):\n",
    "    print(num, \"x\", i, \"=\", i*num)   "
   ]
  },
  {
   "cell_type": "code",
   "execution_count": null,
   "id": "e3c367b0-a45a-417c-8fb8-574701ffc708",
   "metadata": {},
   "outputs": [
    {
     "name": "stdin",
     "output_type": "stream",
     "text": [
      "Enter the first number:  3\n",
      "Enter the second numbr:  6\n"
     ]
    },
    {
     "name": "stdout",
     "output_type": "stream",
     "text": [
      "9\n"
     ]
    },
    {
     "name": "stdin",
     "output_type": "stream",
     "text": [
      "Do you want check other numbers addition(Yes/No):  NO\n"
     ]
    }
   ],
   "source": [
    "#While Loop\n",
    "\n",
    "while True:\n",
    "    num1=int(input(\"Enter the first number: \"))\n",
    "    num2=int(input(\"Enter the second numbr: \"))\n",
    "    print(num1+num2)\n",
    "    repeat=str(input(\"Do you want check other numbers addition(Yes/No): \"))\n",
    "    if repeat==\"No\":\n",
    "        break\n",
    "    else:\n",
    "        continue"
   ]
  },
  {
   "cell_type": "code",
   "execution_count": null,
   "id": "a6aa668a-b4e2-4ea3-be44-79467f89941b",
   "metadata": {},
   "outputs": [],
   "source": []
  }
 ],
 "metadata": {
  "kernelspec": {
   "display_name": "Python 3 (ipykernel)",
   "language": "python",
   "name": "python3"
  },
  "language_info": {
   "codemirror_mode": {
    "name": "ipython",
    "version": 3
   },
   "file_extension": ".py",
   "mimetype": "text/x-python",
   "name": "python",
   "nbconvert_exporter": "python",
   "pygments_lexer": "ipython3",
   "version": "3.10.8"
  }
 },
 "nbformat": 4,
 "nbformat_minor": 5
}
